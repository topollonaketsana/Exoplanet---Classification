{
 "cells": [
  {
   "cell_type": "code",
   "execution_count": 14,
   "metadata": {},
   "outputs": [],
   "source": [
    "import os              \n",
    "import tarfile\n",
    "from six.moves import urllib\n",
    "import pandas as pd   \n",
    "import matplotlib.pyplot as plt\n",
    "import numpy as np\n"
   ]
  },
  {
   "cell_type": "code",
   "execution_count": null,
   "metadata": {},
   "outputs": [],
   "source": [
    "DATA_PATH = \"data/PS_2024_data.csv\"\n",
    "PS_2024_data = pd.read_csv(DATA_PATH, index_col = 'rowid')\n",
    "non_inputs = [\n",
    "    'kepid', 'kepoi_name', 'kepler_name', \n",
    "    'koi_score', 'koi_tce_delivname', 'koi_fpflag_nt', \n",
    "    'koi_fpflag_ss', 'koi_fpflag_co', 'koi_fpflag_ec',\n",
    "    'koi_disposition', 'koi_pdisposition', 'dec', 'ra'\n",
    "]                                                                               # non-useful and data leakage columns\n",
    "non_inputs.extend([col for col in PS_2024_data.columns if '_err' in col])\n",
    "PS_2024_data.drop(columns = non_inputs)"
   ]
  }
 ],
 "metadata": {
  "kernelspec": {
   "display_name": "Python 3",
   "language": "python",
   "name": "python3"
  },
  "language_info": {
   "codemirror_mode": {
    "name": "ipython",
    "version": 3
   },
   "file_extension": ".py",
   "mimetype": "text/x-python",
   "name": "python",
   "nbconvert_exporter": "python",
   "pygments_lexer": "ipython3",
   "version": "3.11.9"
  }
 },
 "nbformat": 4,
 "nbformat_minor": 2
}
