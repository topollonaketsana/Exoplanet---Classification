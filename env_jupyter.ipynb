{
 "cells": [
  {
   "cell_type": "code",
   "execution_count": 1,
   "id": "7145d87b-5d5e-4c99-ae5e-5c26f9c85b15",
   "metadata": {},
   "outputs": [
    {
     "name": "stdout",
     "output_type": "stream",
     "text": [
      "Starting Jupyter Notebook server...\n"
     ]
    }
   ],
   "source": [
    "############# Python Environment\n",
    "# Open Jupyter Workspace Script\n",
    "\n",
    "# Import the necessary libraries\n",
    "import os\n",
    "\n",
    "# Print a message to the user\n",
    "print(\"Starting Jupyter Notebook server...\")\n",
    "\n",
    "# Start the Jupyter Notebook server\n",
    "os.system(\"jupyter notebook\")"
   ]
  },
  {
   "cell_type": "code",
   "execution_count": null,
   "id": "7b47a18e",
   "metadata": {},
   "outputs": [],
   "source": []
  }
 ],
 "metadata": {
  "kernelspec": {
   "display_name": "Python 3 (ipykernel)",
   "language": "python",
   "name": "python3"
  },
  "language_info": {
   "codemirror_mode": {
    "name": "ipython",
    "version": 3
   },
   "file_extension": ".py",
   "mimetype": "text/x-python",
   "name": "python",
   "nbconvert_exporter": "python",
   "pygments_lexer": "ipython3",
   "version": "3.11.9"
  }
 },
 "nbformat": 4,
 "nbformat_minor": 5
}
